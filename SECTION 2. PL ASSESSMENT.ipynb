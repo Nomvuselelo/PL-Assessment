{
 "cells": [
  {
   "cell_type": "markdown",
   "metadata": {},
   "source": [
    "**SECTION 2: PYTHON**"
   ]
  },
  {
   "cell_type": "markdown",
   "metadata": {},
   "source": [
    "1.\tWrite a python function which cleans a mobile phone number. \n",
    "- a.\tRemove all non-numeric characters from the string.\n",
    "- b.\tAdd an initial zero if it is missing.\n",
    "- c.\tRaise an error if the number provided is not the correct length after adjusting for the initial zero.\n",
    "- d.\tReturn the cleaned number.\n",
    "- e.\tSave your code in a file and push it to your GitHub account. Provide just the link to your code in the answer. Remember to set the repository as public so we can access it.\n",
    "If you do not know how to do this, please be in touch for an alternative.\n",
    "\n",
    "\n",
    "2.\tKeep the following in mind when coding:\n",
    "- a.\tUse PEP8 convention in your code.\n",
    "- b.\tProper documentation and use of docstrings. Ensure it meets PEP257 requirements.\n"
   ]
  },
  {
   "cell_type": "code",
   "execution_count": 2,
   "metadata": {},
   "outputs": [],
   "source": [
    "import re\n",
    "def clean_number(number):\n",
    "    \n",
    "    number = re.sub(\"[^0-9]\", \"\", number)\n",
    "    \n",
    "    if number[0] != '0':\n",
    "        number_str = str(number)\n",
    "        number_str = number_str.zfill(10)\n",
    "        return number_str\n",
    "    \n",
    "    if len(number) > 10:\n",
    "        raise ValueError('Phone number has more than 10 digits')\n",
    "              \n",
    "    else: \n",
    "        return number"
   ]
  },
  {
   "cell_type": "code",
   "execution_count": 3,
   "metadata": {},
   "outputs": [
    {
     "data": {
      "text/plain": [
       "'0639988877'"
      ]
     },
     "execution_count": 3,
     "metadata": {},
     "output_type": "execute_result"
    }
   ],
   "source": [
    "clean_number('$6,399,888.77')"
   ]
  },
  {
   "cell_type": "code",
   "execution_count": null,
   "metadata": {},
   "outputs": [],
   "source": []
  }
 ],
 "metadata": {
  "kernelspec": {
   "display_name": "Python 3",
   "language": "python",
   "name": "python3"
  },
  "language_info": {
   "codemirror_mode": {
    "name": "ipython",
    "version": 3
   },
   "file_extension": ".py",
   "mimetype": "text/x-python",
   "name": "python",
   "nbconvert_exporter": "python",
   "pygments_lexer": "ipython3",
   "version": "3.8.5"
  },
  "toc": {
   "base_numbering": 1,
   "nav_menu": {},
   "number_sections": true,
   "sideBar": true,
   "skip_h1_title": false,
   "title_cell": "Table of Contents",
   "title_sidebar": "Contents",
   "toc_cell": false,
   "toc_position": {},
   "toc_section_display": true,
   "toc_window_display": false
  }
 },
 "nbformat": 4,
 "nbformat_minor": 4
}
